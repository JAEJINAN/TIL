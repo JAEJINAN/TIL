{
 "cells": [
  {
   "cell_type": "markdown",
   "id": "8f93774f-1bb3-46e0-b759-f6c2a7ef62ef",
   "metadata": {},
   "source": [
    "# 파이썬 상속"
   ]
  },
  {
   "cell_type": "markdown",
   "id": "7e27f3c0-0e9c-4a36-a696-d0bad2bfa779",
   "metadata": {},
   "source": [
    "## super()로 기반 클래스 초기화"
   ]
  },
  {
   "cell_type": "code",
   "execution_count": 3,
   "id": "24ef5d20-69a0-4d00-8f85-5c9b403679b8",
   "metadata": {},
   "outputs": [
    {
     "name": "stdout",
     "output_type": "stream",
     "text": [
      "1 :  서울 소프트웨어 아카데미\n",
      "다시 상속하세요\n"
     ]
    }
   ],
   "source": [
    "class Person:\n",
    "    def __init__(self):\n",
    "        self.hello = '안녕하세요.'\n",
    "        \n",
    "class Student(Person):\n",
    "    def __init__(self):\n",
    "        self.school = '서울 소프트웨어 아카데미'\n",
    "        \n",
    "dp = Student()\n",
    "try:\n",
    "    print('1 : ', dp.school)\n",
    "    print('2 : ', dp.hello)\n",
    "except:\n",
    "    print('다시 상속하세요')"
   ]
  },
  {
   "cell_type": "code",
   "execution_count": 13,
   "id": "c3ab0068-389d-4022-931d-891cf41cdbf7",
   "metadata": {},
   "outputs": [
    {
     "name": "stdout",
     "output_type": "stream",
     "text": [
      "1 :  서울 소프트웨어 아카데미\n",
      "2 :  안녕하세요.\n"
     ]
    }
   ],
   "source": [
    "class Student(Person):\n",
    "    def __init__(self):\n",
    "        # 상속한 클래스의 __init__ 함수를 호출해서 실행\n",
    "        super().__init__()\n",
    "        self.school = '서울 소프트웨어 아카데미'\n",
    "        \n",
    "dp = Student()\n",
    "\n",
    "try:\n",
    "    print('1 : ', dp.school)\n",
    "    print('2 : ', dp.hello)\n",
    "except:\n",
    "    print('다시 상속하세요')"
   ]
  },
  {
   "cell_type": "markdown",
   "id": "443a9bef-09dd-42cf-9c37-6234f226ac4f",
   "metadata": {},
   "source": [
    "## 클래스를 초기화하지 않아도 되는 경우"
   ]
  },
  {
   "cell_type": "code",
   "execution_count": 15,
   "id": "b9642d57-b0f1-43f6-87c4-19b3808180b0",
   "metadata": {},
   "outputs": [
    {
     "name": "stdout",
     "output_type": "stream",
     "text": [
      "안녕하세요.\n"
     ]
    }
   ],
   "source": [
    "class Person:\n",
    "    def __init__(self):\n",
    "        self.hello = '안녕하세요.'\n",
    "        \n",
    "class Student(Person):\n",
    "    pass # 상속받은 클래스에 __init__ 함수가 없다면 클래스 초기화를 안해줘도된다.\n",
    "\n",
    "dp = Student()\n",
    "print(dp.hello)"
   ]
  },
  {
   "cell_type": "markdown",
   "id": "af7d02c2-8224-434f-8d41-4f461252543d",
   "metadata": {},
   "source": [
    "# 인공신경망"
   ]
  },
  {
   "cell_type": "code",
   "execution_count": 18,
   "id": "af459c4b-d9b2-4999-8e81-a4437bb48720",
   "metadata": {},
   "outputs": [
    {
     "name": "stdout",
     "output_type": "stream",
     "text": [
      "Requirement already up-to-date: gdown in c:\\users\\jay\\appdata\\local\\programs\\python\\python37-32\\lib\\site-packages (4.4.0)\n",
      "Requirement already satisfied, skipping upgrade: filelock in c:\\users\\jay\\appdata\\local\\programs\\python\\python37-32\\lib\\site-packages (from gdown) (3.6.0)\n",
      "Requirement already satisfied, skipping upgrade: tqdm in c:\\users\\jay\\appdata\\local\\programs\\python\\python37-32\\lib\\site-packages (from gdown) (4.64.0)\n",
      "Requirement already satisfied, skipping upgrade: six in c:\\users\\jay\\appdata\\local\\programs\\python\\python37-32\\lib\\site-packages (from gdown) (1.16.0)\n",
      "Requirement already satisfied, skipping upgrade: requests[socks] in c:\\users\\jay\\appdata\\local\\programs\\python\\python37-32\\lib\\site-packages (from gdown) (2.27.1)\n",
      "Requirement already satisfied, skipping upgrade: beautifulsoup4 in c:\\users\\jay\\appdata\\local\\programs\\python\\python37-32\\lib\\site-packages (from gdown) (4.11.1)\n",
      "Requirement already satisfied, skipping upgrade: colorama; platform_system == \"Windows\" in c:\\users\\jay\\appdata\\local\\programs\\python\\python37-32\\lib\\site-packages (from tqdm->gdown) (0.4.4)\n",
      "Requirement already satisfied, skipping upgrade: charset-normalizer~=2.0.0; python_version >= \"3\" in c:\\users\\jay\\appdata\\local\\programs\\python\\python37-32\\lib\\site-packages (from requests[socks]->gdown) (2.0.12)\n",
      "Requirement already satisfied, skipping upgrade: certifi>=2017.4.17 in c:\\users\\jay\\appdata\\local\\programs\\python\\python37-32\\lib\\site-packages (from requests[socks]->gdown) (2021.10.8)\n",
      "Requirement already satisfied, skipping upgrade: urllib3<1.27,>=1.21.1 in c:\\users\\jay\\appdata\\local\\programs\\python\\python37-32\\lib\\site-packages (from requests[socks]->gdown) (1.26.9)\n",
      "Requirement already satisfied, skipping upgrade: idna<4,>=2.5; python_version >= \"3\" in c:\\users\\jay\\appdata\\local\\programs\\python\\python37-32\\lib\\site-packages (from requests[socks]->gdown) (3.3)\n",
      "Requirement already satisfied, skipping upgrade: PySocks!=1.5.7,>=1.5.6; extra == \"socks\" in c:\\users\\jay\\appdata\\local\\programs\\python\\python37-32\\lib\\site-packages (from requests[socks]->gdown) (1.7.1)\n",
      "Requirement already satisfied, skipping upgrade: soupsieve>1.2 in c:\\users\\jay\\appdata\\local\\programs\\python\\python37-32\\lib\\site-packages (from beautifulsoup4->gdown) (2.3.2.post1)\n",
      "Downloading...\n"
     ]
    },
    {
     "name": "stderr",
     "output_type": "stream",
     "text": [
      "You are using pip version 19.0.3, however version 22.0.4 is available.\n",
      "You should consider upgrading via the 'python -m pip install --upgrade pip' command.\n",
      "c:\\users\\jay\\appdata\\local\\programs\\python\\python37-32\\lib\\site-packages\\gdown\\cli.py:131: FutureWarning: Option `--id` was deprecated in version 4.3.1 and will be removed in 5.0. You don't need to pass it anymore to use a file ID.\n",
      "  category=FutureWarning,\n",
      "Downloading...\n",
      "From: https://drive.google.com/uc?id=1NDg2_ccmxkWDu2e_2hsngYI5pzY4qWkW\n",
      "To: C:\\Users\\Jay\\Desktop\\New_git\\TIL\\Deep-Learning\\pytorch_basic\\reg.csv\n",
      "\n",
      "  0%|          | 0.00/138k [00:00<?, ?B/s]\n",
      "100%|##########| 138k/138k [00:00<00:00, 1.53MB/s]\n"
     ]
    }
   ],
   "source": [
    "!pip install -U --no-cache-dir gdown --pre\n",
    "print('Downloading...')\n",
    "!gdown --id {\"1NDg2_ccmxkWDu2e_2hsngYI5pzY4qWkW\"} -O reg.csv"
   ]
  },
  {
   "cell_type": "markdown",
   "id": "babb01b4-7c09-4229-96e1-e320c08408d2",
   "metadata": {},
   "source": [
    "## 모델구조 및 가중치 확인"
   ]
  },
  {
   "cell_type": "code",
   "execution_count": 21,
   "id": "8a7cf322-5b63-433a-9949-ff411cf8064a",
   "metadata": {},
   "outputs": [],
   "source": [
    "import torch\n",
    "from torch import nn\n",
    "import torch.nn.functional as F\n",
    "#!pip install torchsummary\n",
    "from torchsummary import summary"
   ]
  },
  {
   "cell_type": "code",
   "execution_count": 29,
   "id": "99981964-cf63-4511-9f0e-5d35a77710b9",
   "metadata": {},
   "outputs": [],
   "source": [
    "class Regressor(nn.Module):\n",
    "    def __init__(self):\n",
    "        super().__init__()\n",
    "        self.fc1 = nn.Linear(13, 50)\n",
    "        self.fc2 = nn.Linear(50, 30)\n",
    "        self.fc3 = nn.Linear(30, 1)\n",
    "        self.dropout = nn.Dropout()\n",
    "        \n",
    "        \n",
    "    def forward(self, x):\n",
    "        x = F.relu(self.fc1(x))\n",
    "        x = self.dropout(F.relu(self.fc2(x)))\n",
    "        x = F.relu(self.fc3(x))\n",
    "        \n",
    "        return x"
   ]
  },
  {
   "cell_type": "code",
   "execution_count": 23,
   "id": "dfb04364-566a-41ce-8d82-7dbfb27c8256",
   "metadata": {},
   "outputs": [],
   "source": [
    "model = Regressor()"
   ]
  },
  {
   "cell_type": "code",
   "execution_count": 25,
   "id": "3d921359-bea6-47c0-ba82-ed05f452a355",
   "metadata": {},
   "outputs": [
    {
     "name": "stdout",
     "output_type": "stream",
     "text": [
      "Regressor(\n",
      "  (fc1): Linear(in_features=13, out_features=50, bias=True)\n",
      "  (fc2): Linear(in_features=50, out_features=30, bias=True)\n",
      "  (fc3): Linear(in_features=30, out_features=1, bias=True)\n",
      "  (dropout): Dropout(p=0.5, inplace=False)\n",
      ")\n"
     ]
    }
   ],
   "source": [
    "print(model)"
   ]
  },
  {
   "cell_type": "code",
   "execution_count": 31,
   "id": "1be74b84-21dc-4f8b-8871-41d86daeccbe",
   "metadata": {},
   "outputs": [
    {
     "name": "stdout",
     "output_type": "stream",
     "text": [
      "fc1.weight :  torch.Size([50, 13])\n",
      "fc1.bias :  torch.Size([50])\n",
      "fc2.weight :  torch.Size([30, 50])\n",
      "fc2.bias :  torch.Size([30])\n",
      "fc3.weight :  torch.Size([1, 30])\n",
      "fc3.bias :  torch.Size([1])\n"
     ]
    }
   ],
   "source": [
    "for name, parameter in model.named_parameters():\n",
    "    print(name, ': ', parameter.size())"
   ]
  },
  {
   "cell_type": "code",
   "execution_count": 32,
   "id": "8934dc06-3006-44a2-a1cd-f28ad80e8314",
   "metadata": {},
   "outputs": [
    {
     "name": "stdout",
     "output_type": "stream",
     "text": [
      "torch.Size([50, 13]) torch.Size([50])\n"
     ]
    }
   ],
   "source": [
    "print(model.fc1.weight.size(), model.fc1.bias.size())"
   ]
  },
  {
   "cell_type": "code",
   "execution_count": 34,
   "id": "0e1094e3-2b29-4651-adfe-fe4f1e4e4d15",
   "metadata": {},
   "outputs": [
    {
     "name": "stdout",
     "output_type": "stream",
     "text": [
      "cuda\n"
     ]
    }
   ],
   "source": [
    "device = torch.device('cuda')\n",
    "print(device)"
   ]
  },
  {
   "cell_type": "code",
   "execution_count": 37,
   "id": "15667299-f377-44b1-882d-e5d09eec7343",
   "metadata": {},
   "outputs": [
    {
     "name": "stdout",
     "output_type": "stream",
     "text": [
      "----------------------------------------------------------------\n",
      "        Layer (type)               Output Shape         Param #\n",
      "================================================================\n",
      "            Linear-1               [-1, 10, 50]             700\n",
      "            Linear-2               [-1, 10, 30]           1,530\n",
      "           Dropout-3               [-1, 10, 30]               0\n",
      "            Linear-4                [-1, 10, 1]              31\n",
      "================================================================\n",
      "Total params: 2,261\n",
      "Trainable params: 2,261\n",
      "Non-trainable params: 0\n",
      "----------------------------------------------------------------\n",
      "Input size (MB): 0.00\n",
      "Forward/backward pass size (MB): 0.01\n",
      "Params size (MB): 0.01\n",
      "Estimated Total Size (MB): 0.02\n",
      "----------------------------------------------------------------\n"
     ]
    }
   ],
   "source": [
    "summary(model.to(device), (10, 13))"
   ]
  },
  {
   "cell_type": "markdown",
   "id": "1df9be79-166f-4c0a-9e0d-8914fafbe8bb",
   "metadata": {},
   "source": [
    "# 교차 검증"
   ]
  },
  {
   "cell_type": "code",
   "execution_count": 59,
   "id": "a7f236ef-65ca-4862-80ce-6553893b3bea",
   "metadata": {},
   "outputs": [],
   "source": [
    "import pandas as pd\n",
    "import numpy as np\n",
    "from sklearn.model_selection import train_test_split\n",
    "\n",
    "# ANN\n",
    "import torch\n",
    "from torch import nn, optim # torch 내의 세부적인 기능을 불러온다.\n",
    "from torch.utils.data import DataLoader, Dataset # 데이터를 모델에 사용할 수 있도록 정리해 주는 라이브러리\n",
    "import torch.nn.functional as F # torch 내의 세부적인 기능을 불러온다 (신경망 기술 등)\n",
    "\n",
    "# Cross Validation\n",
    "from sklearn.model_selection import KFold\n",
    "\n",
    "# Loss\n",
    "from sklearn.metrics import mean_squared_error # Regression 문제의 평가를 위해 MSE(Mean Squared Error)를 불러온다.\n",
    "\n",
    "# Plot\n",
    "import matplotlib.pyplot as plt # 시각화 도구"
   ]
  },
  {
   "cell_type": "code",
   "execution_count": 39,
   "id": "d0ebb8a6-4f90-49f6-809b-63acbd07f10e",
   "metadata": {},
   "outputs": [
    {
     "data": {
      "text/html": [
       "<div>\n",
       "<style scoped>\n",
       "    .dataframe tbody tr th:only-of-type {\n",
       "        vertical-align: middle;\n",
       "    }\n",
       "\n",
       "    .dataframe tbody tr th {\n",
       "        vertical-align: top;\n",
       "    }\n",
       "\n",
       "    .dataframe thead th {\n",
       "        text-align: right;\n",
       "    }\n",
       "</style>\n",
       "<table border=\"1\" class=\"dataframe\">\n",
       "  <thead>\n",
       "    <tr style=\"text-align: right;\">\n",
       "      <th></th>\n",
       "      <th>x1</th>\n",
       "      <th>x2</th>\n",
       "      <th>x3</th>\n",
       "      <th>x4</th>\n",
       "      <th>x5</th>\n",
       "      <th>x6</th>\n",
       "      <th>x7</th>\n",
       "      <th>x8</th>\n",
       "      <th>x9</th>\n",
       "      <th>x10</th>\n",
       "      <th>x11</th>\n",
       "      <th>x12</th>\n",
       "      <th>x13</th>\n",
       "      <th>Price</th>\n",
       "    </tr>\n",
       "  </thead>\n",
       "  <tbody>\n",
       "    <tr>\n",
       "      <th>0</th>\n",
       "      <td>0.034633</td>\n",
       "      <td>0.206919</td>\n",
       "      <td>0.137057</td>\n",
       "      <td>0.540526</td>\n",
       "      <td>0.193941</td>\n",
       "      <td>0.699239</td>\n",
       "      <td>0.630532</td>\n",
       "      <td>0.239410</td>\n",
       "      <td>0.027375</td>\n",
       "      <td>0.209857</td>\n",
       "      <td>0.347609</td>\n",
       "      <td>0.996394</td>\n",
       "      <td>0.102644</td>\n",
       "      <td>0.422222</td>\n",
       "    </tr>\n",
       "    <tr>\n",
       "      <th>1</th>\n",
       "      <td>0.028920</td>\n",
       "      <td>0.014315</td>\n",
       "      <td>0.276113</td>\n",
       "      <td>0.255945</td>\n",
       "      <td>0.618886</td>\n",
       "      <td>0.555407</td>\n",
       "      <td>0.782263</td>\n",
       "      <td>0.482977</td>\n",
       "      <td>0.103031</td>\n",
       "      <td>0.106690</td>\n",
       "      <td>0.520776</td>\n",
       "      <td>0.996650</td>\n",
       "      <td>0.187120</td>\n",
       "      <td>0.368889</td>\n",
       "    </tr>\n",
       "    <tr>\n",
       "      <th>2</th>\n",
       "      <td>0.020627</td>\n",
       "      <td>0.033230</td>\n",
       "      <td>0.281116</td>\n",
       "      <td>0.525591</td>\n",
       "      <td>0.165269</td>\n",
       "      <td>0.624102</td>\n",
       "      <td>0.586005</td>\n",
       "      <td>0.272713</td>\n",
       "      <td>0.036010</td>\n",
       "      <td>0.106986</td>\n",
       "      <td>0.595301</td>\n",
       "      <td>0.983284</td>\n",
       "      <td>0.084079</td>\n",
       "      <td>0.660000</td>\n",
       "    </tr>\n",
       "    <tr>\n",
       "      <th>3</th>\n",
       "      <td>0.022749</td>\n",
       "      <td>0.033801</td>\n",
       "      <td>0.125044</td>\n",
       "      <td>0.263253</td>\n",
       "      <td>0.251509</td>\n",
       "      <td>0.658532</td>\n",
       "      <td>0.432160</td>\n",
       "      <td>0.344932</td>\n",
       "      <td>0.150018</td>\n",
       "      <td>0.068317</td>\n",
       "      <td>0.651297</td>\n",
       "      <td>0.989989</td>\n",
       "      <td>0.015990</td>\n",
       "      <td>0.631111</td>\n",
       "    </tr>\n",
       "    <tr>\n",
       "      <th>4</th>\n",
       "      <td>0.022148</td>\n",
       "      <td>0.029374</td>\n",
       "      <td>0.121057</td>\n",
       "      <td>0.521126</td>\n",
       "      <td>0.399670</td>\n",
       "      <td>0.448086</td>\n",
       "      <td>0.520158</td>\n",
       "      <td>0.495342</td>\n",
       "      <td>0.104383</td>\n",
       "      <td>0.069360</td>\n",
       "      <td>0.560116</td>\n",
       "      <td>0.998723</td>\n",
       "      <td>0.092782</td>\n",
       "      <td>0.693333</td>\n",
       "    </tr>\n",
       "  </tbody>\n",
       "</table>\n",
       "</div>"
      ],
      "text/plain": [
       "         x1        x2        x3        x4        x5        x6        x7  \\\n",
       "0  0.034633  0.206919  0.137057  0.540526  0.193941  0.699239  0.630532   \n",
       "1  0.028920  0.014315  0.276113  0.255945  0.618886  0.555407  0.782263   \n",
       "2  0.020627  0.033230  0.281116  0.525591  0.165269  0.624102  0.586005   \n",
       "3  0.022749  0.033801  0.125044  0.263253  0.251509  0.658532  0.432160   \n",
       "4  0.022148  0.029374  0.121057  0.521126  0.399670  0.448086  0.520158   \n",
       "\n",
       "         x8        x9       x10       x11       x12       x13     Price  \n",
       "0  0.239410  0.027375  0.209857  0.347609  0.996394  0.102644  0.422222  \n",
       "1  0.482977  0.103031  0.106690  0.520776  0.996650  0.187120  0.368889  \n",
       "2  0.272713  0.036010  0.106986  0.595301  0.983284  0.084079  0.660000  \n",
       "3  0.344932  0.150018  0.068317  0.651297  0.989989  0.015990  0.631111  \n",
       "4  0.495342  0.104383  0.069360  0.560116  0.998723  0.092782  0.693333  "
      ]
     },
     "execution_count": 39,
     "metadata": {},
     "output_type": "execute_result"
    }
   ],
   "source": [
    "df = pd.read_csv('./reg.csv', index_col=[0])\n",
    "df.head()"
   ]
  },
  {
   "cell_type": "code",
   "execution_count": 40,
   "id": "59930098-8d1e-41b2-bc90-3b87abdf89a1",
   "metadata": {},
   "outputs": [],
   "source": [
    "# 데이터를 넘파이 배열로 만들기\n",
    "X = df.drop('Price', axis=1).to_numpy() # 데이터프레임에서 타겟값을 제외하고 넘파이 배열로 만들기\n",
    "Y = df['Price'].to_numpy().reshape((-1, 1)) # 데이터프레임 형태의 타겟값을 넘파이 배열로 만들기"
   ]
  },
  {
   "cell_type": "code",
   "execution_count": 42,
   "id": "3bfbd4eb-ddbc-44f8-a5d0-60c9d530283a",
   "metadata": {},
   "outputs": [
    {
     "name": "stdout",
     "output_type": "stream",
     "text": [
      "(506, 13) (506, 1)\n"
     ]
    }
   ],
   "source": [
    "print(X.shape, Y.shape)"
   ]
  },
  {
   "cell_type": "code",
   "execution_count": 49,
   "id": "51152ae5-366f-4a85-a181-028405d470b1",
   "metadata": {},
   "outputs": [],
   "source": [
    "class TensorData(Dataset):\n",
    "    def __init__(self, x_data, y_data):\n",
    "        self.x_data = torch.FloatTensor(x_data)\n",
    "        self.y_data = torch.FloatTensor(y_data)\n",
    "        self.len = self.y_data.shape[0]\n",
    "        \n",
    "    def __getitem__(self, index):\n",
    "        return self.x_data[index], self.y_data[index]\n",
    "        \n",
    "    def __len__(self):\n",
    "        return self.len"
   ]
  },
  {
   "cell_type": "code",
   "execution_count": 50,
   "id": "46ab8a8f-12b4-4eb3-9dd4-406237cd8e96",
   "metadata": {},
   "outputs": [],
   "source": [
    "X_train, X_test, Y_train, Y_test = train_test_split(X, Y, test_size=0.7)\n",
    "trainset = TensorData(X_train, Y_train)\n",
    "testset = TensorData(X_test, Y_test)"
   ]
  },
  {
   "cell_type": "code",
   "execution_count": 52,
   "id": "edad7c51-9fa6-4b2d-a79f-72c91907bf96",
   "metadata": {},
   "outputs": [
    {
     "data": {
      "text/plain": [
       "(tensor([0.2620, 0.0083, 0.6565, 0.5732, 0.4741, 0.3701, 0.8900, 0.0000, 0.9041,\n",
       "         0.9089, 0.5846, 0.7179, 0.8440]),\n",
       " tensor([0.0844]))"
      ]
     },
     "execution_count": 52,
     "metadata": {},
     "output_type": "execute_result"
    }
   ],
   "source": [
    "trainset[0] # 이런거 할 때 __getitem__없으면 호출이안됌(객체 슬라이싱)"
   ]
  },
  {
   "cell_type": "code",
   "execution_count": 54,
   "id": "c0f12b11-02d7-4a18-a1cc-76b1329124a2",
   "metadata": {},
   "outputs": [],
   "source": [
    "testloader = torch.utils.data.DataLoader(testset, batch_size=32, shuffle=False)\n",
    "kfold = KFold(n_splits=3, shuffle=True)"
   ]
  },
  {
   "cell_type": "code",
   "execution_count": null,
   "id": "ef8f3b38-ffba-43e2-a9d7-9c73635a7a8d",
   "metadata": {},
   "outputs": [],
   "source": [
    "class Regressor(nn.Module):\n",
    "    def __init__(self):\n",
    "        super().__init__()\n",
    "        self.fc1 = nn.Linear(13, 50)\n",
    "        self.fc2 = nn.Linear(50, 30)\n",
    "        self.fc3 = nn.Linear(30, 1)\n",
    "        \n",
    "    def forward(self, x):\n",
    "        x = self.fc1(x)\n",
    "        x = self.fc2(x)\n",
    "        x = self.fc3(x)\n",
    "        return x"
   ]
  },
  {
   "cell_type": "code",
   "execution_count": 55,
   "id": "839d2db0-ad1b-475d-9660-4a61ed61c6f7",
   "metadata": {},
   "outputs": [],
   "source": [
    "criterion = nn.MSELoss()"
   ]
  },
  {
   "cell_type": "code",
   "execution_count": 57,
   "id": "c95d0c9b-b034-4e6a-adc8-9de7538ee1a2",
   "metadata": {},
   "outputs": [],
   "source": [
    "def evaluation(dataloader):\n",
    "    predictions = torch.tensor([], dtype=torch.float)\n",
    "    actual = torch.tensor([], dtype=torch.float)\n",
    "    \n",
    "    with torch.no_grad():\n",
    "        model.eval() # 평가를 할 때에는 .eval() 반드시 써야한다.\n",
    "        for data in dataloader:\n",
    "            inputs, values = data\n",
    "            outputs = model(inputs)\n",
    "            \n",
    "            predictions = torch.cat((predictions, outputs), 0) # cat을 통해 예측값을 누적\n",
    "            actual = torch.cat((actual, values), 0) # cat을 통해 실제값을 누적\n",
    "            \n",
    "    predictions = predictions.numpy() # 넘파이 배열로 변경\n",
    "    actual = actual.numpy() # 넘파이 배열로 변경\n",
    "    rmse = np.sqrt(mean_squared_error(predictions, actual)) # sklearn을 이용해 RMSE 계산\n",
    "    model.train()\n",
    "    return rmse\n",
    "\n",
    "# 평가 시 .eval()을 사용해야 하는 이유\n",
    "# 이번 예시에서는 상관없으나 평가 시에는 정규화 기술을 배제하여 온전한 모델로 평가를 해야한다.\n",
    "# 따라서 .eval()을 사용한다.\n",
    "# 즉, 드랍아웃이나 배치 정규화 등과 같이 학습 시에만 사용하는 기술들이 적용된 모델은 평가 시에는 비활성화 해야하며 학습시\n",
    "# .train()을 사용한다."
   ]
  },
  {
   "cell_type": "code",
   "execution_count": 60,
   "id": "3fc9cc71-42b7-4803-9212-43baa63658f0",
   "metadata": {},
   "outputs": [
    {
     "name": "stdout",
     "output_type": "stream",
     "text": [
      "k-fold 0  Train Loss: 0.0554, Validation Loss: 0.0801\n",
      "k-fold 1  Train Loss: 0.0607, Validation Loss: 0.0740\n",
      "k-fold 2  Train Loss: 0.4050, Validation Loss: 0.4650\n",
      "Validation Score: 0.2064, ± 0.1829\n"
     ]
    }
   ],
   "source": [
    "validation_loss = []\n",
    "\n",
    "for fold, (train_idx, val_idx) in enumerate(kfold.split(trainset)):\n",
    "    train_subsampler = torch.utils.data.SubsetRandomSampler(train_idx) # index 생성\n",
    "    val_subsampler = torch.utils.data.SubsetRandomSampler(val_idx) # index 생성\n",
    "\n",
    "    # sampler를 이용한 DataLoader 정의\n",
    "    trainloader = torch.utils.data.DataLoader(trainset, batch_size=32, \n",
    "                                              sampler=train_subsampler) \n",
    "    valloader = torch.utils.data.DataLoader(trainset, batch_size=32, \n",
    "                                            sampler=val_subsampler)\n",
    "    \n",
    "    # 모델\n",
    "    model = Regressor()\n",
    "    optimizer = optim.Adam(model.parameters(), lr=0.001, weight_decay=1e-7)\n",
    "\n",
    "    for epoch in range(400): # 400번 학습을 진행한다.\n",
    "        for data in trainloader: # 무작위로 섞인 32개 데이터가 있는 배치가 하나 씩 들어온다.\n",
    "            inputs, values = data # data에는 X, Y가 들어있다.\n",
    "            optimizer.zero_grad() # 최적화 초기화\n",
    "\n",
    "            outputs = model(inputs) # 모델에 입력값 대입 후 예측값 산출\n",
    "            loss = criterion(outputs, values) # 손실 함수 계산\n",
    "            loss.backward() # 손실 함수 기준으로 역전파 설정 \n",
    "\n",
    "            optimizer.step() # 역전파를 진행하고 가중치 업데이트\n",
    "\n",
    "    train_rmse = evaluation(trainloader) # 학습 데이터의 RMSE\n",
    "    val_rmse = evaluation(valloader)\n",
    "    print(\"k-fold\", fold,\" Train Loss: %.4f, Validation Loss: %.4f\" %(train_rmse, val_rmse)) \n",
    "    validation_loss.append(val_rmse)\n",
    "\n",
    "validation_loss = np.array(validation_loss)\n",
    "mean = np.mean(validation_loss)\n",
    "std = np.std(validation_loss)\n",
    "print(\"Validation Score: %.4f, ± %.4f\" %(mean, std))   "
   ]
  },
  {
   "cell_type": "code",
   "execution_count": null,
   "id": "2c550c76-f1e1-4b8e-8bef-a570a06b4621",
   "metadata": {},
   "outputs": [],
   "source": [
    "optimizer = optim.Adam(model.parameters())"
   ]
  },
  {
   "cell_type": "code",
   "execution_count": null,
   "id": "a0e436aa-405c-44e2-886a-b16c068d5cd6",
   "metadata": {},
   "outputs": [],
   "source": []
  },
  {
   "cell_type": "code",
   "execution_count": null,
   "id": "12d35f46-1b88-4770-9839-b4ed895eaf9d",
   "metadata": {},
   "outputs": [],
   "source": []
  }
 ],
 "metadata": {
  "kernelspec": {
   "display_name": "pytorch",
   "language": "python",
   "name": "pytorch"
  },
  "language_info": {
   "codemirror_mode": {
    "name": "ipython",
    "version": 3
   },
   "file_extension": ".py",
   "mimetype": "text/x-python",
   "name": "python",
   "nbconvert_exporter": "python",
   "pygments_lexer": "ipython3",
   "version": "3.8.12"
  }
 },
 "nbformat": 4,
 "nbformat_minor": 5
}
