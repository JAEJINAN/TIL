{
 "cells": [
  {
   "cell_type": "code",
   "execution_count": 40,
   "id": "992ecb86-eedc-4a2c-b38c-8db008de59e2",
   "metadata": {},
   "outputs": [],
   "source": [
    "import numpy as np\n",
    "import torch"
   ]
  },
  {
   "cell_type": "markdown",
   "id": "ba9821e8-fbd3-4fea-92c4-dd5d5548ee46",
   "metadata": {},
   "source": [
    "# torch 모듈 정리"
   ]
  },
  {
   "cell_type": "markdown",
   "id": "0ba5bf10-f277-41eb-8af5-2289a080cdde",
   "metadata": {},
   "source": [
    "## <목차>\n",
    "[torch.randperm](#randperm)\\\n",
    "[torch.index_select](#index_select)"
   ]
  },
  {
   "cell_type": "markdown",
   "id": "9bde72f1-14ae-47af-b18e-2b54b39d434d",
   "metadata": {},
   "source": [
    "## torch.randperm <a class=\"anchor\" id=\"randperm\"></a>\n",
    "\n",
    "```python\n",
    "torch.randperm(n, *, generator=None, out=None, dtype=torch.int64, layout=torch.strided, device=None, requires_grad=False, pin_memory=False) → Tensor\n",
    "```\n",
    "\n",
    "Returns a random permutation of integers from 0 to n - 1 .\n",
    "\n",
    "- Parameters\n",
    "n ( int ) – 상한 (배타적)\n",
    "\n",
    "- 키워드 인수\n",
    "    - generator ( torch.Generator , 선택 사항) – 샘플링을위한 의사 난수 생성기\n",
    "    - out ( Tensor , optional ) – 출력 텐서.\n",
    "    - dtype ( torch.dtype , 선택 사항) – 반환 된 텐서의 원하는 데이터 유형입니다. 기본값 : torch.int64 .\n",
    "    - layout ( torch.layout , 선택 사항) – 반환 된 Tensor의 원하는 레이아웃입니다. 기본값 : torch.strided .\n",
    "    - device ( torch.device , optional) – the desired device of returned tensor. Default: if None , uses the current device for the default tensor type (see torch.set_default_tensor_type() ). device will be the CPU for CPU tensor types and the current CUDA device for CUDA tensor types.\n",
    "    - requires_grad ( bool , optional ) – autograd가 반환 된 텐서에 작업을 기록해야하는 경우. 기본값 : False .\n",
    "    - pin_memory ( bool , optional ) – 설정되면 반환 된 텐서가 고정 된 메모리에 할당됩니다. CPU 텐서에서만 작동합니다. 기본값 : False."
   ]
  },
  {
   "cell_type": "markdown",
   "id": "2238d51b-10ea-4cda-8d91-9973814f8d5f",
   "metadata": {},
   "source": [
    "## torch.index_select <a class=\"anchor\" id=\"index_select\"></a>\n",
    "\n",
    "```python\n",
    "torch.index_select(input, dim, index, *, out=None) → Tensor\n",
    "```\n",
    "\n",
    "Returns a new tensor which indexes the input tensor along dimension dim using the entries in index which is a LongTensor.\n",
    "\n",
    "The returned tensor has the same number of dimensions as the original tensor (input). The dimth dimension has the same size as the length of index; other dimensions have the same size as in the original tensor.\n",
    "\n",
    "- Note\n",
    "    - 반환 된 텐서는 원래 텐서와 동일한 저장소를 사용 하지 않습니다 . \n",
    "    - out 의 모양이 예상과 다른 경우 자동으로 올바른 모양으로 변경하여 필요한 경우 기본 저장소를 다시 할당합니다.\n",
    "\n",
    "- Parameters\n",
    "    - input ( Tensor ) – 입력 텐서.\n",
    "    - dim (int) – the dimension in which we index\n",
    "    - index ( IntTensor 또는 LongTensor ) – 인덱싱 할 인덱스를 포함하는 1 차원 텐서\n",
    "    - out ( Tensor , optional ) – 출력 텐서."
   ]
  },
  {
   "cell_type": "markdown",
   "id": "e54f87ff-119e-440a-8f6e-f590751f7076",
   "metadata": {},
   "source": [
    "### 예시\n",
    "- randperm과 index_select를 섞어 쓰자\n",
    "- 데이터를 섞고 싶다. X와 y레이블 데이터를 함께 같은 인덱스로 섞어줘야지 참사를 막을 수 있다. 이럴경우 쓰면 좋다."
   ]
  },
  {
   "cell_type": "code",
   "execution_count": 37,
   "id": "4709ecd1-705f-4d3c-8d84-376b9dd3f816",
   "metadata": {},
   "outputs": [
    {
     "name": "stdout",
     "output_type": "stream",
     "text": [
      "tensor([[35, 95],\n",
      "        [72, 11],\n",
      "        [ 4, 88],\n",
      "        [51, 32],\n",
      "        [15, 41],\n",
      "        [39, 74],\n",
      "        [63, 46],\n",
      "        [31, 42],\n",
      "        [13,  0],\n",
      "        [36, 24]])\n"
     ]
    }
   ],
   "source": [
    "# 임의 데이터 생성\n",
    "# x = (10, 2)텐서\n",
    "x = torch.randint(0, 100, (10, 2))\n",
    "print(x)"
   ]
  },
  {
   "cell_type": "code",
   "execution_count": 38,
   "id": "73f26ef7-be1d-4e99-91fe-6aaf7da68429",
   "metadata": {},
   "outputs": [
    {
     "name": "stdout",
     "output_type": "stream",
     "text": [
      "tensor([2, 6, 9, 7, 5, 1, 8, 3, 0, 4])\n"
     ]
    }
   ],
   "source": [
    "n = 10\n",
    "# 0 ~ 9 까지의 랜덤 순열을 만든다.\n",
    "indices = torch.randperm(n)\n",
    "print(indices)"
   ]
  },
  {
   "cell_type": "code",
   "execution_count": 41,
   "id": "b5b03b98-b4ee-4e53-81a9-a457a27f8e7b",
   "metadata": {},
   "outputs": [
    {
     "name": "stdout",
     "output_type": "stream",
     "text": [
      "tensor([[ 4, 88],\n",
      "        [63, 46],\n",
      "        [36, 24],\n",
      "        [31, 42],\n",
      "        [39, 74],\n",
      "        [72, 11],\n",
      "        [13,  0],\n",
      "        [51, 32],\n",
      "        [35, 95],\n",
      "        [15, 41]])\n"
     ]
    }
   ],
   "source": [
    "# 정의한 indices 순서대로 데이터를 섞어 준다\n",
    "x1 = torch.index_select(x, dim=0, index=indices)\n",
    "print(x1)"
   ]
  },
  {
   "cell_type": "code",
   "execution_count": null,
   "id": "a28aa7ab-c5d2-43d9-8b7b-59f923e08b61",
   "metadata": {},
   "outputs": [],
   "source": []
  }
 ],
 "metadata": {
  "kernelspec": {
   "display_name": "pytorch",
   "language": "python",
   "name": "pytorch"
  },
  "language_info": {
   "codemirror_mode": {
    "name": "ipython",
    "version": 3
   },
   "file_extension": ".py",
   "mimetype": "text/x-python",
   "name": "python",
   "nbconvert_exporter": "python",
   "pygments_lexer": "ipython3",
   "version": "3.8.12"
  }
 },
 "nbformat": 4,
 "nbformat_minor": 5
}
