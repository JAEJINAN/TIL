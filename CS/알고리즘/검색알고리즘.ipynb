{
 "cells": [
  {
   "cell_type": "markdown",
   "id": "a70094a1-c9c6-4524-b3fd-21303c76196d",
   "metadata": {},
   "source": [
    "# 배열 검색\n",
    "- 선형 검색 : 무작위로 늘어놓은 데이터 집합에서 검색을 수행\n",
    "- 이진 검색 : 일정한 규칙으로 늘어놓은 데이터 집합에서 아주 빠른 검색을 수행\n",
    "- 해시법 : 추가, 삭제가 자주 일어나는 데이터 집합에서 아주 빠른 검색을 수행\n",
    "    - 체인법 : 같은 해시값 데이터를 연결 리스트로 연결하는 방법\n",
    "    - 오픈 주소법 : 데이터를 위한 해시값이 충돌할 때 재해시하는 방법"
   ]
  },
  {
   "cell_type": "markdown",
   "id": "af198cdf-26fa-4075-9f92-3c300ef9ebf2",
   "metadata": {},
   "source": [
    "데이터 집합에서 검색뿐 아니라 데이터의 추가, 삭제 등을 자주 수행해야 한다면 검색 이외의 작업에 들어가는 비용을 종합 평가하여 알고리즘을 선택해야한다. 그냥 검색 속도만 빠르다고 만사가 아님"
   ]
  },
  {
   "cell_type": "markdown",
   "id": "42698acb-d4a4-4266-b7ef-d6923a9711e3",
   "metadata": {},
   "source": [
    "## 선형 검색(linear search)\n",
    "- 배열 검색의 기본형\n",
    "- 늘어선 배열에서 원하는 값이 나올때까지 순차적으로 스캔하여 탐색하는 알고리즘\n",
    "- 순차 검색(sequential search)라고도 한다."
   ]
  },
  {
   "cell_type": "markdown",
   "id": "cb21c869-8946-4a02-87f4-6d64dc42eda8",
   "metadata": {},
   "source": [
    "### 종료 조건\n",
    "1. 검색할 값을 찾지 못하고 배열의 맨 끝을 지나간 경우 - 검색 실패\n",
    "2. 검색할 값과 같은 원소를 찾는 경우 - 검색 성공"
   ]
  },
  {
   "cell_type": "code",
   "execution_count": 1,
   "id": "92d1731a-7b72-4d16-876f-5ec6589e215c",
   "metadata": {},
   "outputs": [],
   "source": [
    "from typing import Any, Sequence"
   ]
  },
  {
   "cell_type": "code",
   "execution_count": 2,
   "id": "d813daa0-066d-4430-8182-60e67e1adb69",
   "metadata": {},
   "outputs": [],
   "source": [
    "def seq_search(a:Sequence, key:Any) -> int:\n",
    "    # 시퀀스 a에서 key와 값이 같은 원소를 선형 검색\n",
    "    i = 0\n",
    "    \n",
    "    while True:\n",
    "        if i == len(a):\n",
    "            return -1\n",
    "        if a[i] == key:\n",
    "            return i\n",
    "        i += 1"
   ]
  },
  {
   "cell_type": "code",
   "execution_count": 4,
   "id": "8e4f7ab4-2006-49ed-be46-4a1c678ee184",
   "metadata": {},
   "outputs": [
    {
     "name": "stdin",
     "output_type": "stream",
     "text": [
      "원소 수를 입력 :  10\n",
      "x[0]:  3\n",
      "x[1]:  4\n",
      "x[2]:  1\n",
      "x[3]:  7\n",
      "x[4]:  9\n",
      "x[5]:  11\n",
      "x[6]:  3\n",
      "x[7]:  24\n",
      "x[8]:  04\n",
      "x[9]:  9\n",
      "검색할 값을 입력하세요 :  9\n"
     ]
    },
    {
     "name": "stdout",
     "output_type": "stream",
     "text": [
      "검색값은 x[4]에 있다.\n"
     ]
    }
   ],
   "source": [
    "num = int(input('원소 수를 입력 : '))\n",
    "x = [None] * num\n",
    "\n",
    "for i in range(num):\n",
    "    x[i] = int(input(f'x[{i}]: '))\n",
    "    \n",
    "ky = int(input('검색할 값을 입력하세요 : '))\n",
    "idx =seq_search(x, ky)\n",
    "\n",
    "if idx == -1 :\n",
    "    print('검색값을 갖는 원소가 존재하지 않음')\n",
    "else:\n",
    "    print(f'검색값은 x[{idx}]에 있다.')"
   ]
  },
  {
   "cell_type": "code",
   "execution_count": 6,
   "id": "a19d72cf-340a-4ac8-ae9b-cb48f07bd915",
   "metadata": {},
   "outputs": [
    {
     "name": "stdin",
     "output_type": "stream",
     "text": [
      "원소 수를 입력 :  5\n",
      "x[0]:  1\n",
      "x[1]:  2\n",
      "x[2]:  3\n",
      "x[3]:  4\n",
      "x[4]:  6\n",
      "검색할 값을 입력하세요 :  5\n"
     ]
    },
    {
     "name": "stdout",
     "output_type": "stream",
     "text": [
      "검색값을 갖는 원소가 존재하지 않음\n"
     ]
    }
   ],
   "source": [
    "num = int(input('원소 수를 입력 : '))\n",
    "x = []\n",
    "\n",
    "for i in range(num):\n",
    "    x[i] = x.append(int(input(f'x[{i}]: ')))\n",
    "    \n",
    "ky = int(input('검색할 값을 입력하세요 : '))\n",
    "idx =seq_search(x, ky)\n",
    "\n",
    "if idx == -1 :\n",
    "    print('검색값을 갖는 원소가 존재하지 않음')\n",
    "else:\n",
    "    print(f'검색값은 x[{idx}]에 있다.')"
   ]
  },
  {
   "cell_type": "code",
   "execution_count": 7,
   "id": "b46e4217-8aa3-48f8-84da-133826dfd9a7",
   "metadata": {},
   "outputs": [
    {
     "name": "stdout",
     "output_type": "stream",
     "text": [
      "실수를 검색 \n",
      "주의 : \"End\"를 입력하면 종료합니다.\n"
     ]
    },
    {
     "name": "stdin",
     "output_type": "stream",
     "text": [
      "x[0] :  12.7\n",
      "x[1] :  3.14\n",
      "x[2] :  6.4\n",
      "x[3] :  7.2\n",
      "x[4] :  End\n",
      "검색할 값을 입력하시오 :  6.4\n"
     ]
    },
    {
     "name": "stdout",
     "output_type": "stream",
     "text": [
      "검색값은 x[2]에 있다.\n"
     ]
    }
   ],
   "source": [
    "print('실수를 검색 ')\n",
    "print('주의 : \"End\"를 입력하면 종료합니다.')\n",
    "\n",
    "number = 0\n",
    "x = []\n",
    "\n",
    "while True:\n",
    "    s = input(f'x[{number}] : ')\n",
    "    if s == 'End':\n",
    "        break\n",
    "    x.append(float(s))\n",
    "    number += 1\n",
    "    \n",
    "ky = float(input('검색할 값을 입력하시오 : '))\n",
    "\n",
    "idx = seq_search(x, ky)\n",
    "if idx == -1 :\n",
    "    print('검색값을 갖는 원소가 존재하지 않음')\n",
    "else:\n",
    "    print(f'검색값은 x[{idx}]에 있다.')"
   ]
  },
  {
   "cell_type": "markdown",
   "id": "90cf77b1-3d3c-4482-86e6-95598dd44dfb",
   "metadata": {},
   "source": [
    "## 보초법\n",
    "선형검색은 반복할때마다 2가지 종료 조건을 체크한다. 이 과정을 계속하면 종료 조건을 검사하는 비용은 무시하지 못할 것이다. 이 비용을 반으로 줄이는 방법이 바로 보초법(sentinel method)이다."
   ]
  },
  {
   "cell_type": "markdown",
   "id": "30ff0e80-e05c-4b02-8b86-fcce5e86a8b1",
   "metadata": {},
   "source": [
    "검색할 값과 같은 원소를 발견하거나 배열을 끝까지 검색했을 때 없으면 선형 검색은 종료된다. 이 때, 검색할 값과 같은 원소를 배열 끝에 보초로 세워두면 검색값이 없다는 체크 포인트는 더이상 필요 하지않다.\\\n",
    "이때 저장하는 값을 보초(sentinel)이라고 한다."
   ]
  },
  {
   "cell_type": "code",
   "execution_count": 12,
   "id": "9d38c788-5588-4d57-a1f3-4210f2ff5538",
   "metadata": {},
   "outputs": [],
   "source": [
    "import copy\n",
    "\n",
    "def seq_search2(seq, key):\n",
    "    a = seq.copy()\n",
    "    a.append(key)\n",
    "    \n",
    "    i = 0\n",
    "    while True:\n",
    "        if a[i] == key:\n",
    "            break\n",
    "        i += 1\n",
    "    return -1 if i ==len(seq) else i"
   ]
  },
  {
   "cell_type": "code",
   "execution_count": 13,
   "id": "c14f3b00-a016-4468-b4d9-eb2e2716adec",
   "metadata": {},
   "outputs": [
    {
     "name": "stdin",
     "output_type": "stream",
     "text": [
      "원소 수를 입력 :  7\n",
      "x[0]:  6\n",
      "x[1]:  4\n",
      "x[2]:  3\n",
      "x[3]:  2\n",
      "x[4]:  1\n",
      "x[5]:  2\n",
      "x[6]:  8\n",
      "검색할 값을 입력하세요 :  2\n"
     ]
    },
    {
     "name": "stdout",
     "output_type": "stream",
     "text": [
      "검색값은 x[3]에 있다.\n"
     ]
    }
   ],
   "source": [
    "num = int(input('원소 수를 입력 : '))\n",
    "x = [None] * num\n",
    "\n",
    "for i in range(num):\n",
    "    x[i] = int(input(f'x[{i}]: '))\n",
    "    \n",
    "ky = int(input('검색할 값을 입력하세요 : '))\n",
    "idx =seq_search2(x, ky)\n",
    "\n",
    "if idx == -1 :\n",
    "    print('검색값을 갖는 원소가 존재하지 않음')\n",
    "else:\n",
    "    print(f'검색값은 x[{idx}]에 있다.')"
   ]
  },
  {
   "cell_type": "code",
   "execution_count": null,
   "id": "aaaca8cf-ed21-49a9-98f6-f307889f6349",
   "metadata": {},
   "outputs": [],
   "source": []
  }
 ],
 "metadata": {
  "kernelspec": {
   "display_name": "Python 3 (ipykernel)",
   "language": "python",
   "name": "python3"
  },
  "language_info": {
   "codemirror_mode": {
    "name": "ipython",
    "version": 3
   },
   "file_extension": ".py",
   "mimetype": "text/x-python",
   "name": "python",
   "nbconvert_exporter": "python",
   "pygments_lexer": "ipython3",
   "version": "3.9.7"
  }
 },
 "nbformat": 4,
 "nbformat_minor": 5
}
