{
 "cells": [
  {
   "cell_type": "markdown",
   "id": "dd6cd352-cc1d-4c6b-adfe-ed3ecd91a964",
   "metadata": {},
   "source": [
    "# 클래스의 상속"
   ]
  },
  {
   "cell_type": "markdown",
   "id": "55126b38-3fb7-4d3b-afea-a7e82bef27b5",
   "metadata": {},
   "source": [
    "## 상속이란 (inheritance)\n",
    "하나의 객체를 설계 할 수 있는 구체(concrete class) 클래스 또는 단일 클래스를 또 다른 클래스가 기능 추가 및 변경, 특성을 추가해서 새로운 확장형 클래스를 정의하는 것"
   ]
  },
  {
   "cell_type": "markdown",
   "id": "02a7b98e-8103-413d-8862-06407d5f6df3",
   "metadata": {},
   "source": [
    "구체(선조, 부모, 수퍼) 클래스 <- 하위(자손, 후손, 파생, 서브) 클래스"
   ]
  },
  {
   "cell_type": "markdown",
   "id": "9f65868d-344b-4272-8588-da1a866e0d48",
   "metadata": {},
   "source": [
    "### 상속의 특징\n",
    "- 선조가 후손에게 재산을 상속하듯이 클래스가 또 다른 클래스에게 상속을 할 수 있다.\n",
    "- 클래스간의 상속은 멤버 변수, 메소드를 또 다른 클래스에 그대로 전해 주며 후손은 선조의 메소드를 후손에서 `선조클래스명.멤버`로 호출이 가능하다.\n",
    "- 생성자, 소멸자, \\_\\_특정메소드\\_\\_, private(\\_\\_)는 상속 불가"
   ]
  },
  {
   "cell_type": "markdown",
   "id": "5415ae74-8d8b-4b1b-9fe1-0fea7d129273",
   "metadata": {},
   "source": [
    "**상속의 목적은 재사용이 가능, 간결성, 확장성**"
   ]
  },
  {
   "cell_type": "markdown",
   "id": "04f10005-e620-4430-ac96-7ced8e8ada09",
   "metadata": {},
   "source": [
    "## 상속의 선언 방법\n",
    "- 선조 클래스와 후손 클래스의 상속은 다중상속을 지원함\n",
    "\n",
    "\n",
    "\\[형식]\n",
    "\n",
    "```python\n",
    "class 후손클래스(선조클래스명...):\n",
    "    <<코드>>\n",
    "```"
   ]
  },
  {
   "cell_type": "markdown",
   "id": "f7767fd3-e165-46b1-b379-c10f0788ed70",
   "metadata": {},
   "source": [
    "# 재정의(overriding)\n",
    "- 메소드 재정의\n",
    "- 선조 : prn() - 히든\n",
    "- 후손 : prn()\n",
    "    - 동일 이름 -> 선조가 먼저 메모리 할당되고 상속해서 후손 것을 가져오면 prn 이름이 같아서 선조는 히든처리되고 후손 것이 사용된다."
   ]
  },
  {
   "cell_type": "markdown",
   "id": "bd662746-070d-4223-97a9-a6450f208078",
   "metadata": {},
   "source": [
    "- 선조 : getTot() : 2과목 성적합\n",
    "- 후손 : getTot() (2과목) + Kor() -> getTot() 하나로 3과목 성적합으로 다시 만들어(재정의) 관리하고싶다.\n",
    "    - 상속 받은 후손 클래스에서 상속해 준 선조 클래스에 이미 정의되어 있는 메소드의 기능을 변경해서 새로 정의하는 것을 말한다.\n",
    "    - 선조클래스에 메소드가 존재해야 재정의가 된다.\n",
    "    - 선조가 가진 메소드의 파라미터 개수가 같아야 한다.\n",
    "    - 리턴형은 같지 않아도 된다."
   ]
  },
  {
   "cell_type": "markdown",
   "id": "6b710d9b-391d-4676-a2c4-98b69e8e719e",
   "metadata": {},
   "source": [
    "# 예제"
   ]
  },
  {
   "cell_type": "markdown",
   "id": "234ece61-87f7-40de-8a44-dc66a774893a",
   "metadata": {},
   "source": [
    "## 예제 1 - 상속 기본\n",
    "- 간단한 구조의 상속을 구현해 보자\n",
    "- 이름과 나이를 관리하는 Person클래스가 있다\n",
    "- Student클래스 Person을 상속을 받아 학년만 추가해서 이름, 나이, 학년을 모두 출력하는 클래스를 만들고 싶다."
   ]
  },
  {
   "cell_type": "code",
   "execution_count": 12,
   "id": "64823e3e-76de-4735-aa1b-7f29a7df2042",
   "metadata": {},
   "outputs": [],
   "source": [
    "class Person :\n",
    "    def __init__(self, name, age): # 매개변수를 통해 초기 값을 전달 받아 초기화\n",
    "        # 5번으로 실행(선조의 객체가 생성되면서 멤버변수에게 값 전달 끝\n",
    "        self.name = name\n",
    "        self.age = age\n",
    "    def personInfo(self) : # 멤버 변수 출력용 메소드 / 연결 연산자는 시퀀스의 같은 객체끼리 연결이 가능 ( + )\n",
    "        return self.name + '는' + ' age : ' + str(self.age) + ','\n",
    "    \n",
    "class Student(Person) : # 2번으로 실행\n",
    "    def __init__(self,name, age, grade) : # 3번으로 실행\n",
    "        Person.__init__(self, name, age) # 4번으로 실행\n",
    "        self.grade = grade # 6번으로 실행(객체 생성하면서 grade변수 값전달)\n",
    "        \n",
    "    def GetStudent(self) :\n",
    "        return self.personInfo() + ' grade : ' + str(self.grade)"
   ]
  },
  {
   "cell_type": "code",
   "execution_count": 13,
   "id": "cff936e5-0b8c-4e13-ad16-5f28e8aa87b6",
   "metadata": {},
   "outputs": [
    {
     "name": "stdout",
     "output_type": "stream",
     "text": [
      "Ruri는 age : 7, grade : 3\n"
     ]
    }
   ],
   "source": [
    "student = Student('Ruri', 7, 3) # 1번으로 실행 -> 7번 실행(생성된 선조의 주소를 리턴)\n",
    "print(student.GetStudent())"
   ]
  },
  {
   "cell_type": "code",
   "execution_count": 15,
   "id": "528d6087-f009-470b-a0c3-d279bae71ae9",
   "metadata": {},
   "outputs": [
    {
     "name": "stdout",
     "output_type": "stream",
     "text": [
      "Ruri는 age : 7,\n"
     ]
    }
   ],
   "source": [
    "print(student.personInfo()) # 선조 메소드도 접근 가능"
   ]
  },
  {
   "cell_type": "markdown",
   "id": "f8a78831-6f81-494c-9ca2-ab00e665685b",
   "metadata": {},
   "source": [
    "## 예제 2 - super"
   ]
  },
  {
   "cell_type": "code",
   "execution_count": 28,
   "id": "94e11da0-b86d-419a-b936-e89c3e56cd13",
   "metadata": {},
   "outputs": [],
   "source": [
    "# super() : 선조클래스를 의미한다. 명시적으로 후손 클래스에서 선조의 변수나 메소드를 참조할 때 사용한다.\n",
    "# 후손클래스에서 후손이 가진 값을 선조 클래스의 생성자를 호출해서 대입하려면 super()키워드를 사용한다.\n",
    "class AA :\n",
    "    def __init__(self) :\n",
    "        print('나 AA 생성자 ') # 명시생성자라고 하자"
   ]
  },
  {
   "cell_type": "code",
   "execution_count": 29,
   "id": "fd3f4f81-4d7d-46c3-b601-9576dcc5f3b9",
   "metadata": {},
   "outputs": [],
   "source": [
    "class BB(AA) :\n",
    "    def __init__(self) : \n",
    "        super().__init__() #선조의 기본 생성자를 호출 / 단일 상속일때는 이런거 쓰고(어차피 super로 해도 하나니까)\n",
    "        # AA.__init__(self) # 여러가지를 상속(다중상속)일때는 그 상속받는 클래스를 딱 나타내기 위해 AA로 지칭해준다.\n",
    "        print('나 BB 생성자 ')"
   ]
  },
  {
   "cell_type": "code",
   "execution_count": 30,
   "id": "174067e4-5542-4d24-a661-32bbe3ce1da2",
   "metadata": {},
   "outputs": [
    {
     "name": "stdout",
     "output_type": "stream",
     "text": [
      "나 AA 생성자 \n",
      "나 BB 생성자 \n"
     ]
    }
   ],
   "source": [
    "# a1 = AA() # 생성자를 호출하면서 객체가 생성한다. 자유영역공간(클래스영역)에 메모리 할당된다.\n",
    "b1 = BB() # AA()를 생성하면서 메모리에 "
   ]
  },
  {
   "cell_type": "code",
   "execution_count": null,
   "id": "c5bac663-6041-4c22-a6a4-44c2df56d5db",
   "metadata": {},
   "outputs": [],
   "source": []
  },
  {
   "cell_type": "code",
   "execution_count": 13,
   "id": "fb046448-191e-4459-94ba-29a63ac2f8b6",
   "metadata": {},
   "outputs": [],
   "source": [
    "class Person :\n",
    "    _b = 10 # 강한 private형식은 멤버만 호출이 가능하다. 후손은 호출이 가능하다. _b는 호출이 되네?\n",
    "    def __init__(self, name, age, b): # 매개변수를 통해 초기 값을 전달 받아 초기화 / \n",
    "        # 5번으로 실행(선조의 객체가 생성되면서 멤버변수에게 값 전달 끝\n",
    "        self.name = name\n",
    "        self.age = age\n",
    "        self._b = b\n",
    "    def personInfo(self) : # 멤버 변수 출력용 메소드 / 연결 연산자는 시퀀스의 같은 객체끼리 연결이 가능 ( + )\n",
    "        return self.name + '는' + ' age : ' + str(self.age) + ','"
   ]
  },
  {
   "cell_type": "code",
   "execution_count": 18,
   "id": "90f5eefd-7a7c-43b1-9b6b-d49eba11b8e4",
   "metadata": {},
   "outputs": [],
   "source": [
    "class Student(Person) : # 2번으로 실행\n",
    "    def __init__(self,name, age, b, grade) : # 3번으로 실행\n",
    "        super().__init__(name, age, b) # 4번으로 실행\n",
    "        self.grade = grade # 6번으로 실행(객체 생성하면서 grade변수 값전달)\n",
    "        \n",
    "    def GetStudent(self) :\n",
    "        # print('b = ', self.__b)\n",
    "        return self.personInfo() + ' grade : ' + str(self.grade)"
   ]
  },
  {
   "cell_type": "code",
   "execution_count": 19,
   "id": "313a7ed1-a60a-4ff4-a205-fc023d5c5e42",
   "metadata": {},
   "outputs": [
    {
     "name": "stdout",
     "output_type": "stream",
     "text": [
      "Ruri는 age : 7, grade : 5\n"
     ]
    }
   ],
   "source": [
    "student = Student('Ruri', 7, 3, 5) # 1번으로 실행 -> 7번 실행(생성된 선조의 주소를 리턴)\n",
    "print(student.GetStudent())"
   ]
  },
  {
   "cell_type": "code",
   "execution_count": null,
   "id": "a214c784-a1df-4418-9be5-c8f5ebb9954d",
   "metadata": {},
   "outputs": [],
   "source": []
  },
  {
   "cell_type": "markdown",
   "id": "b54ea677-c5f0-4220-9737-a9244250c0da",
   "metadata": {},
   "source": [
    "## 예제 3 - 재정의"
   ]
  },
  {
   "cell_type": "code",
   "execution_count": 20,
   "id": "938175f2-9ed3-458b-bb19-911ec642eb29",
   "metadata": {},
   "outputs": [],
   "source": [
    "class MyScore :\n",
    "    def __init__(self, kor, eng) :\n",
    "        self.kor = kor\n",
    "        self.eng = eng\n",
    "        \n",
    "    def getTot(self) :\n",
    "        print('선조')\n",
    "        return self.kor + self.eng"
   ]
  },
  {
   "cell_type": "code",
   "execution_count": 34,
   "id": "73f9bb50-165f-4b7e-a5d8-c43138e2149e",
   "metadata": {},
   "outputs": [],
   "source": [
    "class MyScore_Sub(MyScore) :\n",
    "    def __init__(self, kor, eng, mat) :\n",
    "        super().__init__(kor,eng)\n",
    "        self.mat = mat\n",
    "        \n",
    "    def getTot(self) :\n",
    "        print('후손')\n",
    "        return super().getTot() + self.mat \n",
    "# super를 명시해줘야함. 그냥 getTot써주면 자기가 호출하고 자기를 쓰고 무한루프 발생"
   ]
  },
  {
   "cell_type": "code",
   "execution_count": 35,
   "id": "e3a914d6-4c74-48b7-82da-77c77b05dda8",
   "metadata": {},
   "outputs": [
    {
     "name": "stdout",
     "output_type": "stream",
     "text": [
      "선조\n",
      "50\n"
     ]
    }
   ],
   "source": [
    "print(MyScore(20,30).getTot())"
   ]
  },
  {
   "cell_type": "code",
   "execution_count": 36,
   "id": "3bc2af53-83b1-4e48-bf7a-446c60ce967a",
   "metadata": {},
   "outputs": [
    {
     "name": "stdout",
     "output_type": "stream",
     "text": [
      "후손\n",
      "선조\n",
      "300\n"
     ]
    }
   ],
   "source": [
    "print(MyScore_Sub(100,100,100).getTot())"
   ]
  },
  {
   "cell_type": "code",
   "execution_count": 39,
   "id": "47ac4869-d68b-4392-abad-f1ce3a0624d5",
   "metadata": {},
   "outputs": [],
   "source": [
    "class MyScore_Sub(MyScore) :\n",
    "    def __init__(self, kor, eng, mat) :\n",
    "        super().__init__(kor,eng)\n",
    "        self.mat = mat\n",
    "        \n",
    "    def getTot(self) :\n",
    "        print('후손')\n",
    "        return self.kor + self.eng + self.mat"
   ]
  },
  {
   "cell_type": "code",
   "execution_count": 40,
   "id": "2d2991ef-edc9-48f1-813b-01e07ae81f4c",
   "metadata": {},
   "outputs": [
    {
     "name": "stdout",
     "output_type": "stream",
     "text": [
      "후손\n",
      "300\n"
     ]
    }
   ],
   "source": [
    "print(MyScore_Sub(100,100,100).getTot())"
   ]
  },
  {
   "cell_type": "code",
   "execution_count": null,
   "id": "64497f1e-00af-49fd-9ad5-2250e8e504b3",
   "metadata": {},
   "outputs": [],
   "source": []
  }
 ],
 "metadata": {
  "kernelspec": {
   "display_name": "pytorch",
   "language": "python",
   "name": "pytorch"
  },
  "language_info": {
   "codemirror_mode": {
    "name": "ipython",
    "version": 3
   },
   "file_extension": ".py",
   "mimetype": "text/x-python",
   "name": "python",
   "nbconvert_exporter": "python",
   "pygments_lexer": "ipython3",
   "version": "3.8.12"
  }
 },
 "nbformat": 4,
 "nbformat_minor": 5
}
