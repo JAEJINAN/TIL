{
 "cells": [
  {
   "cell_type": "markdown",
   "id": "67fcb07b-58f7-4231-bab6-3c811aeaccce",
   "metadata": {},
   "source": [
    "## 파이썬 기본 자료형 및 키워드"
   ]
  },
  {
   "cell_type": "markdown",
   "id": "0ec32f97-f962-4ad2-8785-96bf8be5574d",
   "metadata": {},
   "source": [
    "- 리터럴\n",
    "    - 그냥 `값`을 의미한다. 고정된 값을 표현하는 것을 의미(어디에 저장되기전 상태)\n",
    "    - a는 그냥 리터럴 -> A= 'a'라고 할당을 해주면 a라는 리터럴은 value가 됨\n",
    "- 내장함수\n",
    "    - 시스템 안에 있는 함수\n",
    "- 변수\n",
    "    - 변하는 수(값)을 담는 것.\n",
    "- 메소드\n",
    "    - 클래스 안에 선언된 함수\n",
    "- 클래스\n",
    "    - 사용자 자료형, class\n",
    "- 모듈\n",
    "    - `.py` 확장자\n",
    "    - `a.py`->`a.pyc` (둘이 존재하면 모듈)\n",
    "- 패키지\n",
    "    - 꾸러미로 폴더 단위를 말함."
   ]
  },
  {
   "cell_type": "markdown",
   "id": "c0b6289c-3851-47d4-a301-5e23c25c7ac1",
   "metadata": {},
   "source": [
    "### 리터럴 참고\n",
    "- 정수 리터럴 : 98, 99, 1000 등 (int)\n",
    "- 실수 리터럴 : 90.1, 3.14 등 (float)\n",
    "- 불리언 리터럴 : True, False (bool)\n",
    "- 문자 리터럴 : 'a' (str)\n",
    "- 문자열 리터럴 : 'abc' (str)"
   ]
  },
  {
   "cell_type": "markdown",
   "id": "d50b1d21-7e7f-46b3-b3fd-81ec9438850d",
   "metadata": {},
   "source": [
    "### 참조란?\n",
    "연결대상의 시작 주소를 이용해서 값을 CRUD 하는 것"
   ]
  },
  {
   "cell_type": "markdown",
   "id": "91f6ffb4-c407-4b89-82a7-d759a52b04fa",
   "metadata": {},
   "source": [
    "### 식별자란?\n",
    "- 프로그래밍 언어에서 변수(객체 변수), 함수, 메소드, 클래스, 모듈 등을 구분하기 위해서 붙이는 이름을 말함\n",
    "- 식별자 특징\n",
    "    - 어떤 대상을 유일하게 구별하는 이름 e.g) a=100, b=20\n",
    "    - 파이썬의 식별자는 유니코드(unicode) 형식을 취함\n",
    "    - 코드에 존재하는 변수, 자료형, 서브루틴 등을 가르키는 토큰임\n",
    "    - 프로그램 정보를 처리하기 위해서는 그 정보를 가르키는 방법으로 사용됨\n",
    "- 규칙\n",
    "    - 영문자 `A~Z`, `a~z` 또는 `_`로시작한다.\n",
    "    - `@, $, %` 등 문장 부호는 사용하지 않는다.\n",
    "    - 대소문자 구분\n",
    "    - 클래스명은 시작하는 대문자를 제외하고 모두 소문자\n",
    "    - `_` : private\n",
    "    - `__` : strong private\n",
    "    - `~~__` 로 끝나는 식별자 언어에 의해 정의된 특별한 이름을 의미 e.g) `__name__`\n",
    "    - 키워드를 제외하고 이름을 명명한다."
   ]
  },
  {
   "cell_type": "markdown",
   "id": "01468cc5-0b2d-416b-8b66-49dbb1004c77",
   "metadata": {},
   "source": [
    "### 키워드\n",
    "- 프로그램에서 예약된 단어, 파이썬에서 미리 사용하기 위해 예약해둔 단어들\n",
    "- help() -> \"keywords\" (Lib폴더 내)\n",
    "- import 모듈명 C:\\Users\\JAY\\AppData\\Local\\Programs\\Python\\Python38\\Lib\\keywords.py\n",
    "    - import keyword 하고 dir()하면 목록에 keyword가 생김. (dir : 목록 확인)\n",
    "    - dir(keyword) 목록 확인\n",
    "    - keyword.kwlist 하면 keyword가 가진 목록 리스트를 띄어준다.\n",
    "    - del keyword (메모리에서 해당 객체를 삭제함, 삭제 후 dir()하면 목록에서 사라짐)\n",
    "    - del 객체 : 객체를 메모리에서 삭제"
   ]
  },
  {
   "cell_type": "markdown",
   "id": "2825ee94-3eb1-4b69-817a-c992f7d07ff6",
   "metadata": {},
   "source": [
    "### 변수\n",
    "- 변하는 수라는 뜻. 값을 저장할 수 있는 메모리상의 공간을 의미한다.\n",
    "- 특징\n",
    "    - 숫자값, 문자열 값 또는 클래스의 객체를 나타낸다.\n",
    "    - 변수에 저장되는 값, 즉 리터럴 상수는 변경할 수 있지만 변수 이름은 그대로 유지된다.\n",
    "    - 데이터 형식은 응용프로그램이 실행될 때 값을 저장하기 위해 할당해야 하는 정확한 메모리 양을 지정한다.\n",
    "    - 명명 규칙은 키워드의 규칙을 따른다."
   ]
  },
  {
   "cell_type": "markdown",
   "id": "efe99673-43e4-4d21-b2cc-948a9572938f",
   "metadata": {},
   "source": [
    "### 8개의 기본 타입\n",
    "type() 함수를 이용해서 리터럴의 자료형 타입을 확인 할 수 있다.\n",
    "- 리터럴  <class 'int'><class 'float'><class 'str'><class 'bool'><class 'NoneType'>\n",
    "- 튜플 <class 'tuple'>\n",
    "- 리스트 <class 'list'>\n",
    "- 딕셔너리 <class 'dict'>"
   ]
  },
  {
   "cell_type": "markdown",
   "id": "c9188181-052a-49ad-a2bb-57b345614d9c",
   "metadata": {},
   "source": [
    "### 자료 구조\n",
    "하나 이상의 값을 나열해서 하나의 객체에 담아서 관리하는 구조\n",
    "1. 인덱스로 구분 : list, tuple\n",
    "2. 값으로 구분 : tuple\n",
    "3. key로 구분 : dict\n",
    "\n",
    "> `,`로 나열해서 값을 대입하게 되면 나열형 값을 관리하는 자료형이 된다.\n",
    "\n",
    "> 나열형 데이터 타입(시퀀스 자료형) : tuple, list, dict, set"
   ]
  },
  {
   "cell_type": "code",
   "execution_count": null,
   "id": "cc61669b-6f4f-4a1d-904f-a160195ae988",
   "metadata": {},
   "outputs": [],
   "source": []
  }
 ],
 "metadata": {
  "kernelspec": {
   "display_name": "pytorch",
   "language": "python",
   "name": "pytorch"
  },
  "language_info": {
   "codemirror_mode": {
    "name": "ipython",
    "version": 3
   },
   "file_extension": ".py",
   "mimetype": "text/x-python",
   "name": "python",
   "nbconvert_exporter": "python",
   "pygments_lexer": "ipython3",
   "version": "3.8.12"
  }
 },
 "nbformat": 4,
 "nbformat_minor": 5
}
