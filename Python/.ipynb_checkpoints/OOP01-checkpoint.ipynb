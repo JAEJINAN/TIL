{
 "cells": [
  {
   "cell_type": "markdown",
   "id": "910efd03-4113-4a1c-8ff1-91af815a4b30",
   "metadata": {},
   "source": [
    "# OOP (Object - Oriented Programming)\n",
    "- 객체 지향 프로그램\n",
    "- 데이터 처리를 하는 메소드들을 하나의 프로그램으로 설계해서 연동하는 객체(object)를 중심으로 프로그램을 짜는 언어를 말한다.\n",
    "- 파이썬은 대화적이고(interactive), 인터프리터(interpreter), 객체 지향(object oriented) 프로그래밍 언어이다.\n",
    "- 파이썬은 모든 것이 객체이다."
   ]
  },
  {
   "cell_type": "markdown",
   "id": "1bcbd506-ef95-4c5a-a79f-dcd5f8d8d1d4",
   "metadata": {},
   "source": [
    "# 클래스와 객체란 ?\n",
    "- 클래스는 객체 지향 프로그램의 기본적인 사용자 정의 데이터형 (User Defined Datatype)\n",
    "- 클래스는 객체를 정의한 것으로 실 세계에서 존재하는 사물이나 개념의 속성과 기능을 모델링해서 추상화 시키는 과정을 말한다.\n",
    "- 객체는 자신 고유의 속성(attribute)을 가지며 클래스에서 정의한 행위(behavior)를 수행할 수 있다.\n",
    "- 객체의 행위는 클래스에 정의된 행위에 대한 정의를 공유함으로써 메모리를 경제적으로 사용한다.\n",
    "- 객체는 클래스의 인스턴스이며 정의된 클래스를 사용해서 실제로 메모리에 생성되어 메모리에 로딩된 상태를 말한다.\n",
    "- **객체**는 클래스의 타입으로 선언되었을 때를 의미하는 것이고, 그 객체가 메모리에 할당되어 실제 사용될 때를 **인스턴스**라고 한다."
   ]
  },
  {
   "cell_type": "markdown",
   "id": "aa9db10c-4e3d-4c9a-a0e4-82967b12c828",
   "metadata": {},
   "source": [
    "그림판의 메뉴를 생각해보자.\n",
    "- 동그라미를 메뉴에서 선택해서 작업화면에 동그라미 객체를 그린다.\n",
    "- 이때 정해진 클래스(동그라미)의 여러개의 객체를(object) 생성하게 되는데 동그라미 객체들을 인스턴스한다고 말한다."
   ]
  },
  {
   "cell_type": "markdown",
   "id": "b0ff31a1-3d55-4b73-a95f-d55d8a5e1582",
   "metadata": {},
   "source": [
    "## 구조\n",
    "- 객체 = 속성(attributes) + 행위(behaviors) = (참고 : 속성 + 기능)\n",
    "- 클래스 = 변수(variable) + 메소드(methods) = (참고 : 변수 + 메소드(기능))"
   ]
  },
  {
   "cell_type": "markdown",
   "id": "b70c6600-40f9-4813-af87-56759a166341",
   "metadata": {},
   "source": [
    "- 객체는 멤버 변수를 가지고 있으면서 그들의 동작을 수행하는 함수들을 가지게 되는데 **메소드**라고 부른다.\n",
    "- 메소드는 객체를 사용하기 위해 필요한 모든 이벤트들을 처리하는 함수이다."
   ]
  },
  {
   "cell_type": "markdown",
   "id": "55668a5c-24a4-4388-a078-3105b8a7de5c",
   "metadata": {},
   "source": [
    "# OOP 3대 특징\n",
    "- 클래스 : 사용자 자료형 = 변수 + 메소드\n",
    "    - 캡슐화 : 은닉된 멤버변수에게 오픈된 메소드가 값 전달 및 변경하는 구조\n",
    "- 상속 : 클래스의 기능을 확장, 선조클래스가 1개일 때 단일 상속, 1more(+)일 때 다중상속\n",
    "    - 정규패턴 (`+` : 1more(1개 또는 여러개), `*` : 0 more (없거나 여러개거나), `...` : 0 more) \n",
    "- 다형성 : 다양한 형태의 성질로 이루어진 클래스의 동적 바인딩 구조"
   ]
  },
  {
   "cell_type": "markdown",
   "id": "4937549e-0391-4346-a977-68661cf4e529",
   "metadata": {},
   "source": [
    "자료형 선언 -> 객체 생성 -> 멤버 호출\n",
    "\n",
    "\\[형식]\n",
    "```python\n",
    "class 클래스 이름(상속클래스명):\n",
    "    <클래스 변수 선언>\n",
    "    \n",
    "    def 클래스 함수(self, ...):\n",
    "        <수행할 문장>\n",
    "    \n",
    "    def ...\n",
    "```\n",
    "\n",
    "클래스 내부에 선언되는 매개인자는 첫번째 자리에 self를 쓴다."
   ]
  },
  {
   "cell_type": "markdown",
   "id": "7bcea53a-d6dd-49fa-915a-b958c28bcf2e",
   "metadata": {},
   "source": [
    "# 클래스 생성 3step"
   ]
  },
  {
   "cell_type": "markdown",
   "id": "3f5b23aa-67af-4fce-9cbd-b69fde8ab280",
   "metadata": {},
   "source": [
    "## step1 : 자료형, 클래스 선언\n",
    "- 값을 받아서 저장하고 추가하는 클래스를 만들려고 한다.\n",
    "- 값을 받아 저장하는 멤버를 가진 메소드를 empty()라고 하고 값을 받아 추가하는 메소드를 add()라고 명명하게 설계하자."
   ]
  },
  {
   "cell_type": "code",
   "execution_count": 1,
   "id": "e4ad3af1-788e-4438-85ca-56431f511b9e",
   "metadata": {},
   "outputs": [],
   "source": [
    "class Test: # 기본적으로 object 클래스를 상속하고 있다 (선조 참조)\n",
    "    def empty(self):\n",
    "        self.data = []\n",
    "        \n",
    "    def add(self, x):\n",
    "        self.data.append(x)"
   ]
  },
  {
   "cell_type": "markdown",
   "id": "11b0b75b-9eaa-4c14-8e69-84c33498ccd0",
   "metadata": {},
   "source": [
    "## step2 : 객체 생성\n",
    "- Test 클래스가 선언 및 정의가 되면 클래스 객체 생성을 통한 인스턴스를 만든다.\n",
    "    - 클래스 변수 = 클래스명() # 생성자를 호출하면서 객체를 생성"
   ]
  },
  {
   "cell_type": "code",
   "execution_count": 7,
   "id": "591e4d07-201c-4860-b6ae-af221d2eb70c",
   "metadata": {},
   "outputs": [],
   "source": [
    "# my01의 변수에 Test라는 클래스의 객체를 생성하게 되면 메모리에 \n",
    "# Test클래스와 같은 자료형이 생성되어 메모리에 확보되고, 확보된 주소가 my01에  =연산자를 통해 대입되어 참조된다.\n",
    "my01 = Test()\n",
    "\n",
    "# my02의 변수에 Test라는 클래스의 객체를 생성하게 되면 메모리에 \n",
    "# Test클래스와 같은 자료형이 생성되어 메모리에 확보되고, 확보된 주소가 my02에  =연산자를 통해 대입되어 참조된다.\n",
    "my02 = Test()"
   ]
  },
  {
   "cell_type": "markdown",
   "id": "befedfa5-7d5c-4abb-8820-b1c52869d497",
   "metadata": {},
   "source": [
    "## step3 : 멤버 호출\n",
    "- my01.empty()\n",
    "- my02.empty()"
   ]
  },
  {
   "cell_type": "code",
   "execution_count": 9,
   "id": "71d4647c-2699-446d-bcb2-cfe22a492010",
   "metadata": {},
   "outputs": [
    {
     "name": "stdout",
     "output_type": "stream",
     "text": [
      "<__main__.Test object at 0x00000221AADC2A00> <__main__.Test object at 0x00000221AADC2970>\n",
      "None None\n",
      "[1, 2, 3, 4, 5]\n",
      "[]\n"
     ]
    }
   ],
   "source": [
    "print(my01, my02)\n",
    "\n",
    "my01.empty()\n",
    "my02.empty()\n",
    "print(my01.empty(), my02.empty())\n",
    "      \n",
    "for i in range(1,6):\n",
    "    my01.add(i)\n",
    "      \n",
    "print(my01.data)\n",
    "print(my02.data)"
   ]
  },
  {
   "cell_type": "code",
   "execution_count": 10,
   "id": "8fe841f8-0d36-4b8b-8804-8192ad8c965a",
   "metadata": {},
   "outputs": [
    {
     "name": "stdout",
     "output_type": "stream",
     "text": [
      "[1, 2, 3, 4, 5]\n",
      "<__main__.Test object at 0x00000221AADC2A00> <__main__.Test object at 0x00000221AADC2A00>\n"
     ]
    }
   ],
   "source": [
    "my03 = my01\n",
    "print(my03.data)\n",
    "print(my01, my03)"
   ]
  },
  {
   "cell_type": "markdown",
   "id": "5c40b8db-8085-4eca-a4c1-d3809bc376c8",
   "metadata": {},
   "source": [
    "## 메소드에 지정하는 self의 의미\n",
    "- 클래스 내부에 선언되는 메소드 매개인자는 첫번째 자리에 self로 반드시 명시한다.\n",
    "- 모든 메소드는 최소한 self 인수는 반드시 명시되어야 하며 리턴되거나 매개인자로 대입 받을 수 없다.\n",
    "- 객체를 통해서 호출되는 메소드의 첫번째 매개인자인 self는 자동으로 객체 참조될 주소로 대입받는다.\n",
    "- self를 통해서 클래스의 멤버변수 또는 메소드를 자유롭게 클래스 내부에서 호출 할 수 있다."
   ]
  },
  {
   "cell_type": "code",
   "execution_count": 18,
   "id": "ff632240-a422-4f48-843e-849765a87ffa",
   "metadata": {},
   "outputs": [],
   "source": [
    "# 이름, 주소, 전화 번호를 관리하는 Address라는 클래스를 선언해서 변수로 값을 저장해 보자\n",
    "# 정적 변수 : static 변수 (클래스.멤버변수)\n",
    "class Address :\n",
    "    name='Dominica'\n",
    "    addr = 'seoul'\n",
    "    tel = '02-0000-0000'\n",
    "    def prn(self) : # 멤버 메서드\n",
    "        print(Address.name, Address.addr, Address.tel)"
   ]
  },
  {
   "cell_type": "code",
   "execution_count": 20,
   "id": "987cdff8-9d32-4dd9-add0-545acd6c43d3",
   "metadata": {},
   "outputs": [
    {
     "name": "stdout",
     "output_type": "stream",
     "text": [
      "Dominica seoul 02-0000-0000\n"
     ]
    }
   ],
   "source": [
    "print(Address.name, Address.addr, Address.tel)"
   ]
  },
  {
   "cell_type": "code",
   "execution_count": 21,
   "id": "73ddbb53-bb12-4049-84d6-a49ec5eb04b7",
   "metadata": {},
   "outputs": [
    {
     "name": "stdout",
     "output_type": "stream",
     "text": [
      "111111111 seoul 02-0000-0000\n"
     ]
    }
   ],
   "source": [
    "Address.name = '111111111'\n",
    "print(Address.name, Address.addr, Address.tel)"
   ]
  },
  {
   "cell_type": "code",
   "execution_count": 22,
   "id": "de6a1363-2a49-402b-a85c-1e0c3f032e01",
   "metadata": {},
   "outputs": [
    {
     "name": "stdout",
     "output_type": "stream",
     "text": [
      "111111111 seoul 02-0000-0000\n"
     ]
    }
   ],
   "source": [
    "a1 = Address()\n",
    "a1.prn()"
   ]
  },
  {
   "cell_type": "code",
   "execution_count": null,
   "id": "b0ddf049-b232-43cf-994a-4a8970c16ba1",
   "metadata": {},
   "outputs": [],
   "source": []
  },
  {
   "cell_type": "markdown",
   "id": "fc223efa-2db5-4ccc-a437-40a596c22575",
   "metadata": {},
   "source": [
    "## `__class__`"
   ]
  },
  {
   "cell_type": "markdown",
   "id": "1540ed51-c39c-4d7a-87d2-1688ceacee41",
   "metadata": {},
   "source": [
    "인스턴스가 자신을 생성한 클래스 객체를 참조하기 위하여 파이썬에서 제공하는 키워드로, 클래스 영역에 모든 인스턴스 객체에 있는 데이터를 참조하거나 수정할 때 사용한다."
   ]
  },
  {
   "cell_type": "markdown",
   "id": "74f19298-2322-4feb-8b91-553feb601928",
   "metadata": {},
   "source": [
    "### 예제\n",
    "Emp라는 클래스를 만들어서 변수를 2개 선언한 후 a1, b1, c1의 이름으로 객체를 생성한 다음 값을 전달 후 출력해보자.\n",
    "\n",
    "| 사원번호 | 7월 영업실적 |\n",
    "| :-- | :-- |\n",
    "| a111 | 850 |\n",
    "| b111 | 750 |\n",
    "| c111 | 650 |"
   ]
  },
  {
   "cell_type": "code",
   "execution_count": 23,
   "id": "40d8eb50-8900-40c6-8e24-561954c35b8a",
   "metadata": {},
   "outputs": [],
   "source": [
    "class Emp:\n",
    "    empno = 0\n",
    "    result = 0"
   ]
  },
  {
   "cell_type": "code",
   "execution_count": 26,
   "id": "95c0dd74-2600-4ddc-9462-65cbfaa14c00",
   "metadata": {},
   "outputs": [
    {
     "name": "stdout",
     "output_type": "stream",
     "text": [
      "a111 850\n",
      "b111 750\n",
      "c111 650\n",
      "0 0\n",
      "---------------------\n",
      "Emp\n",
      "<class 'type'>\n",
      "<class '__main__.Emp'>\n",
      "<class '__main__.Emp'>\n"
     ]
    }
   ],
   "source": [
    "a1 = Emp()\n",
    "a1.empno = 'a111'\n",
    "a1.result = 850\n",
    "print(a1.empno, a1.result)\n",
    "\n",
    "b1 = Emp()\n",
    "b1.empno = 'b111'\n",
    "b1.result = 750\n",
    "print(b1.empno, b1.result)\n",
    "\n",
    "c1 = Emp()\n",
    "c1.empno = 'c111'\n",
    "c1.result = 650\n",
    "print(c1.empno, c1.result)\n",
    "\n",
    "print(Emp.empno, Emp.result)\n",
    "print('---------------------')\n",
    "print(Emp.__name__, type(a1.__class__), b1.__class__, c1.__class__, sep='\\n')"
   ]
  },
  {
   "cell_type": "code",
   "execution_count": 28,
   "id": "85d47059-7572-4302-98fe-e0d9984ac93d",
   "metadata": {},
   "outputs": [
    {
     "name": "stdout",
     "output_type": "stream",
     "text": [
      "emp 1000\n"
     ]
    }
   ],
   "source": [
    "Emp.empno = 'emp'\n",
    "Emp.result = 1000\n",
    "print(Emp.empno, Emp.result)"
   ]
  },
  {
   "cell_type": "markdown",
   "id": "e5baa126-8880-4c49-b8d4-358f1f80dfda",
   "metadata": {},
   "source": [
    "# 캡슐화\n",
    "- 은닉된 멤버 변수에 오픈된 메소드로 값을 전달 (setXX) 및 변경하는 구조 (getXX return)"
   ]
  },
  {
   "cell_type": "code",
   "execution_count": 33,
   "id": "99feec6c-28a0-4d71-8cee-1c0442460412",
   "metadata": {},
   "outputs": [],
   "source": [
    "class Test:\n",
    "    __b = 100 # 객체생성 후 호출할 수 없고, Test의 멤버만 접근이 가능\n",
    "    def __m(self):\n",
    "        return 'a'\n",
    "    def k(self):\n",
    "        print(self.__m(), self.__b)"
   ]
  },
  {
   "cell_type": "code",
   "execution_count": 34,
   "id": "486b8ce7-e563-4ba9-88dd-f2789ce07e1b",
   "metadata": {},
   "outputs": [
    {
     "name": "stdout",
     "output_type": "stream",
     "text": [
      "a 100\n"
     ]
    }
   ],
   "source": [
    "my = Test() # 객체에 속한 멤버인 k()에서만 불러올 수 있음\n",
    "my.k()"
   ]
  },
  {
   "cell_type": "code",
   "execution_count": 35,
   "id": "5be920bf-94fa-405e-bd8b-7582a62503ec",
   "metadata": {},
   "outputs": [
    {
     "ename": "AttributeError",
     "evalue": "'Test' object has no attribute '__b'",
     "output_type": "error",
     "traceback": [
      "\u001b[1;31m---------------------------------------------------------------------------\u001b[0m",
      "\u001b[1;31mAttributeError\u001b[0m                            Traceback (most recent call last)",
      "\u001b[1;32m~\\AppData\\Local\\Temp/ipykernel_26744/3699799037.py\u001b[0m in \u001b[0;36m<module>\u001b[1;34m\u001b[0m\n\u001b[1;32m----> 1\u001b[1;33m \u001b[0mprint\u001b[0m\u001b[1;33m(\u001b[0m\u001b[0mmy\u001b[0m\u001b[1;33m.\u001b[0m\u001b[0m__b\u001b[0m\u001b[1;33m)\u001b[0m \u001b[1;31m# 객체에서 접근 불가\u001b[0m\u001b[1;33m\u001b[0m\u001b[1;33m\u001b[0m\u001b[0m\n\u001b[0m",
      "\u001b[1;31mAttributeError\u001b[0m: 'Test' object has no attribute '__b'"
     ]
    }
   ],
   "source": [
    "print(my.__b) # 객체에서 접근 불가"
   ]
  },
  {
   "cell_type": "code",
   "execution_count": 36,
   "id": "08c52c97-0bdd-4d06-99ca-063748bbf80d",
   "metadata": {},
   "outputs": [
    {
     "ename": "AttributeError",
     "evalue": "type object 'Test' has no attribute '__b'",
     "output_type": "error",
     "traceback": [
      "\u001b[1;31m---------------------------------------------------------------------------\u001b[0m",
      "\u001b[1;31mAttributeError\u001b[0m                            Traceback (most recent call last)",
      "\u001b[1;32m~\\AppData\\Local\\Temp/ipykernel_26744/4157071515.py\u001b[0m in \u001b[0;36m<module>\u001b[1;34m\u001b[0m\n\u001b[1;32m----> 1\u001b[1;33m \u001b[0mprint\u001b[0m\u001b[1;33m(\u001b[0m\u001b[0mTest\u001b[0m\u001b[1;33m.\u001b[0m\u001b[0m__b\u001b[0m\u001b[1;33m)\u001b[0m \u001b[1;31m# 객체에서 접근 불가\u001b[0m\u001b[1;33m\u001b[0m\u001b[1;33m\u001b[0m\u001b[0m\n\u001b[0m",
      "\u001b[1;31mAttributeError\u001b[0m: type object 'Test' has no attribute '__b'"
     ]
    }
   ],
   "source": [
    "print(Test.__b) # 객체에서 접근 불가"
   ]
  },
  {
   "cell_type": "markdown",
   "id": "77548aeb-0b79-41f7-8e79-f3efc6276f79",
   "metadata": {},
   "source": [
    "- 정수형 변수 a를 관리하는 클래스를 만들어보자. 단, 캡슐화로 구현\n",
    "- 은닉된 멤버 변수에게 setxx으로 값 전달 및 변경\n",
    "- getxx return 메소드로 리턴하는 구조"
   ]
  },
  {
   "cell_type": "code",
   "execution_count": 41,
   "id": "4d39a960-0c6b-4afa-a125-e0bb8a13532e",
   "metadata": {},
   "outputs": [],
   "source": [
    "class Test:\n",
    "    __a = 0\n",
    "    def setA(self, a): # 객체 생성후 값을 a로 전달받아 멤버 __a에게 값 전달 및 변경\n",
    "        self.__a = a\n",
    "        \n",
    "    def getA(self): # __a를 리턴해줌\n",
    "        return self.__a"
   ]
  },
  {
   "cell_type": "code",
   "execution_count": 43,
   "id": "fe3698ff-a259-4e46-8304-d99dc61d01c8",
   "metadata": {},
   "outputs": [
    {
     "data": {
      "text/plain": [
       "0"
      ]
     },
     "execution_count": 43,
     "metadata": {},
     "output_type": "execute_result"
    }
   ],
   "source": [
    "t1 = Test()\n",
    "t1.getA()"
   ]
  },
  {
   "cell_type": "code",
   "execution_count": 44,
   "id": "c2eaa1df-74be-4606-89c0-9b2db756b3ea",
   "metadata": {},
   "outputs": [
    {
     "name": "stdout",
     "output_type": "stream",
     "text": [
      "10\n"
     ]
    }
   ],
   "source": [
    "t1.setA(10)\n",
    "print(t1.getA())"
   ]
  },
  {
   "cell_type": "markdown",
   "id": "5e0c698f-1d36-4a07-9b60-33a640cc21a5",
   "metadata": {},
   "source": [
    "- 정수형 변수 a, b를 관리하는 클래스를 만들어보자. 단 캡슐화로 구현\n",
    "- 은닉된 멤버 변수에게 setxx으로 값 전달 및 변경\n",
    "- getxx return 메소드로 리턴하는 구조"
   ]
  },
  {
   "cell_type": "code",
   "execution_count": 45,
   "id": "fcf901ad-c6a8-4f1a-8a7e-72e030b8dd2f",
   "metadata": {},
   "outputs": [],
   "source": [
    "class Test:\n",
    "    __a = 0 # 주소 hidden private / 초기값은 생성자에서 대입\n",
    "    __b = 0\n",
    "    \n",
    "    def setA(self, a): # 객체 생성후 값을 a로 전달받아 멤버 __a에게 값 전달\n",
    "        self.__a = a\n",
    "        \n",
    "    def getA(self):\n",
    "        return self.__a\n",
    "    \n",
    "    def setB(self, b):\n",
    "        self.__b = b\n",
    "        \n",
    "    def getB(self):\n",
    "        return self.__b"
   ]
  },
  {
   "cell_type": "code",
   "execution_count": 47,
   "id": "b1f61f8a-bcc4-4418-a8b0-45678350f55b",
   "metadata": {},
   "outputs": [],
   "source": [
    "t1 = Test()"
   ]
  },
  {
   "cell_type": "code",
   "execution_count": 48,
   "id": "816d8388-0bcd-470e-b210-9a1d7d5ab593",
   "metadata": {},
   "outputs": [
    {
     "name": "stdout",
     "output_type": "stream",
     "text": [
      "200\n"
     ]
    }
   ],
   "source": [
    "t1.setB(200)\n",
    "print(t1.getB())"
   ]
  },
  {
   "cell_type": "markdown",
   "id": "bcc732e6-83ae-4efb-8553-4784cb05061e",
   "metadata": {},
   "source": [
    "## OOP에서 접근제한자\n",
    "- private(비공개)\n",
    "- protected(상속시 공개)\n",
    "- public(공개)\n",
    "- default(현재 패키지에서만 공개)"
   ]
  },
  {
   "cell_type": "code",
   "execution_count": null,
   "id": "e7885c21-87a1-4428-b116-b0be703587fd",
   "metadata": {},
   "outputs": [],
   "source": []
  },
  {
   "cell_type": "markdown",
   "id": "cc271781-8c68-47dc-ba19-8c150c55cbcd",
   "metadata": {},
   "source": [
    "# 클래스의 내장함수\n",
    "- 파이썬에서 사용되는 모든 클래스 안에서 사용할 수 있는 특별한 메서드를 말한다.\n",
    "- 클래스의 내장함수는 크게 (생성자, 소멸자), 연산자 오버로드, 기본 자료형 중 시퀀스자료형에서 사용되는 인덱싱 관련함수 등의 세가지로 나뉜다."
   ]
  },
  {
   "cell_type": "markdown",
   "id": "f17ca389-2462-4869-8dbe-abb746cb456a",
   "metadata": {},
   "source": [
    "- 생성자 : ``__init__`` (initialization) 객체가 인스턴스화 될때 호출되는 특수 메서드\n",
    "- 소멸자 : ``__del__`` (destructor) 인스턴스가 소멸될 때 호출되는 특수 메서드"
   ]
  },
  {
   "cell_type": "code",
   "execution_count": 49,
   "id": "934f0951-6927-4f51-a5b1-6f1d5359433e",
   "metadata": {},
   "outputs": [],
   "source": [
    "# 생성자와 소멸자를 살펴보자.\n",
    "# 생성자를 명시하지 않으면 자동으로 내부호출되어 생성되고 명시하게 되면 명시된 생성자가 호출된다.\n",
    "# 생성자는 단 한번 객체를 생성할 때 자동 호출되며 해당클래스의 모든 멤버를 동적 할당 메모리로 로드하게 된다.\n",
    "# 생성자의 목적은 멤버변수 초기화\n",
    "\n",
    "class MyDel :\n",
    "    def __init__(self,a=100) : # 생성자\n",
    "        self.a = a\n",
    "        print('__init__')\n",
    "    \n",
    "    def __del__(self) : # 소멸자 객체가 소멸되는 시점에서 호출 되면서 리소스 해제\n",
    "        print('나 소거된다. 현재 클래스에서 호출되거나 참조한 다른 클래스를 멤버로 가질 때 소거한다.')\n",
    "    \n",
    "#     del a1\n",
    "#     print('abcd')\n",
    "#     print('a = ',a1)\n",
    "#     a1 = MyDel()\n",
    "#     print('a=',a1)"
   ]
  },
  {
   "cell_type": "code",
   "execution_count": 50,
   "id": "97c78d66-edfb-4e7a-b1bd-7ccdc4ed3149",
   "metadata": {},
   "outputs": [
    {
     "name": "stdout",
     "output_type": "stream",
     "text": [
      "__init__\n",
      "<__main__.MyDel object at 0x00000221AAEB3D90>\n"
     ]
    }
   ],
   "source": [
    "a1 = MyDel() # MyDel 이라는 클래스를 생성자를 호출하면서 객체 생성한다.\n",
    "print(a1)"
   ]
  },
  {
   "cell_type": "code",
   "execution_count": null,
   "id": "c7947c28-ebdf-4c42-af50-8653c93cc139",
   "metadata": {},
   "outputs": [],
   "source": []
  }
 ],
 "metadata": {
  "kernelspec": {
   "display_name": "Python 3 (ipykernel)",
   "language": "python",
   "name": "python3"
  },
  "language_info": {
   "codemirror_mode": {
    "name": "ipython",
    "version": 3
   },
   "file_extension": ".py",
   "mimetype": "text/x-python",
   "name": "python",
   "nbconvert_exporter": "python",
   "pygments_lexer": "ipython3",
   "version": "3.9.7"
  }
 },
 "nbformat": 4,
 "nbformat_minor": 5
}
